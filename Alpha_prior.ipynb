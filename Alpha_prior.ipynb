{
 "cells": [
  {
   "cell_type": "code",
   "execution_count": 1,
   "metadata": {
    "collapsed": false
   },
   "outputs": [
   ],
   "source": [
    "import pandas as pd\n",
    "import matplotlib.pyplot as plt\n",
    "import numpy as np\n",
    "\n",
    "import matplotlib as mpl\n",
    "\n",
    "def import_matplotlib_style(label_size = 16):\n",
    "\n",
    "\n",
    "    font = {'family' : 'monospace',\n",
    "            'weight' : 'normal',\n",
    "            'size'   : label_size}\n",
    "\n",
    "    mpl.rc('font', **font)\n",
    "\n",
    "    params = {'legend.fontsize': label_size,\n",
    "              'figure.figsize': (7, 5),\n",
    "              'axes.labelsize': label_size,\n",
    "              'axes.titlesize':label_size,\n",
    "              'xtick.labelsize':label_size,\n",
    "              'ytick.labelsize':label_size}\n",
    "    mpl.rcParams.update(params)\n",
    "\n",
    "import_matplotlib_style()\n"
   ]
  },
  {
   "cell_type": "code",
   "execution_count": 2,
   "metadata": {
    "collapsed": false
   },
   "outputs": [
    {
     "data": {
      "text/html": [
       "<div>\n",
       "<style scoped>\n",
       "    .dataframe tbody tr th:only-of-type {\n",
       "        vertical-align: middle;\n",
       "    }\n",
       "\n",
       "    .dataframe tbody tr th {\n",
       "        vertical-align: top;\n",
       "    }\n",
       "\n",
       "    .dataframe thead th {\n",
       "        text-align: right;\n",
       "    }\n",
       "</style>\n",
       "<table border=\"1\" class=\"dataframe\">\n",
       "  <thead>\n",
       "    <tr style=\"text-align: right;\">\n",
       "      <th></th>\n",
       "      <th>author</th>\n",
       "      <th>slopemin</th>\n",
       "      <th>slopemax</th>\n",
       "      <th>notes</th>\n",
       "      <th>energymin</th>\n",
       "      <th>energymax</th>\n",
       "      <th>notes.1</th>\n",
       "      <th>SpT min</th>\n",
       "      <th>SpT max</th>\n",
       "      <th>nstars</th>\n",
       "      <th>nflares</th>\n",
       "      <th>Unnamed: 11</th>\n",
       "    </tr>\n",
       "  </thead>\n",
       "  <tbody>\n",
       "    <tr>\n",
       "      <td>0</td>\n",
       "      <td>Hawley+2014</td>\n",
       "      <td>1,95</td>\n",
       "      <td>2,01</td>\n",
       "      <td>min = binned, max=cumulative</td>\n",
       "      <td>NaN</td>\n",
       "      <td>NaN</td>\n",
       "      <td>NaN</td>\n",
       "      <td>NaN</td>\n",
       "      <td>NaN</td>\n",
       "      <td>NaN</td>\n",
       "      <td>NaN</td>\n",
       "      <td>LSq with Poisson uncertainty, increase the low...</td>\n",
       "    </tr>\n",
       "    <tr>\n",
       "      <td>1</td>\n",
       "      <td>Davenport2016</td>\n",
       "      <td>NaN</td>\n",
       "      <td>NaN</td>\n",
       "      <td>NaN</td>\n",
       "      <td>NaN</td>\n",
       "      <td>NaN</td>\n",
       "      <td>NaN</td>\n",
       "      <td>NaN</td>\n",
       "      <td>NaN</td>\n",
       "      <td>NaN</td>\n",
       "      <td>NaN</td>\n",
       "      <td>confidence intervals following Gehrels1986</td>\n",
       "    </tr>\n",
       "    <tr>\n",
       "      <td>2</td>\n",
       "      <td>Gizis+2017</td>\n",
       "      <td>1,6</td>\n",
       "      <td>2</td>\n",
       "      <td>NaN</td>\n",
       "      <td>31</td>\n",
       "      <td>33</td>\n",
       "      <td>NaN</td>\n",
       "      <td>M7</td>\n",
       "      <td>M7</td>\n",
       "      <td>1</td>\n",
       "      <td>22</td>\n",
       "      <td>de-biased MLE (Arnold2015), weight each point ...</td>\n",
       "    </tr>\n",
       "    <tr>\n",
       "      <td>3</td>\n",
       "      <td>Paudel+2018</td>\n",
       "      <td>NaN</td>\n",
       "      <td>NaN</td>\n",
       "      <td>NaN</td>\n",
       "      <td>NaN</td>\n",
       "      <td>NaN</td>\n",
       "      <td>NaN</td>\n",
       "      <td>NaN</td>\n",
       "      <td>NaN</td>\n",
       "      <td>NaN</td>\n",
       "      <td>NaN</td>\n",
       "      <td>ML from a paper in 2010, used emcee (Foreman-M...</td>\n",
       "    </tr>\n",
       "    <tr>\n",
       "      <td>4</td>\n",
       "      <td>Lacy1976</td>\n",
       "      <td>1,43</td>\n",
       "      <td>2</td>\n",
       "      <td>NaN</td>\n",
       "      <td>29</td>\n",
       "      <td>32,5</td>\n",
       "      <td>NaN</td>\n",
       "      <td>M0</td>\n",
       "      <td>M6</td>\n",
       "      <td>8</td>\n",
       "      <td>386</td>\n",
       "      <td>graphical linear Lsq</td>\n",
       "    </tr>\n",
       "    <tr>\n",
       "      <td>5</td>\n",
       "      <td>Davenport+2012*</td>\n",
       "      <td>1,9</td>\n",
       "      <td>2,1</td>\n",
       "      <td>NaN</td>\n",
       "      <td>29</td>\n",
       "      <td>31</td>\n",
       "      <td>flare luminosities instead of energies</td>\n",
       "      <td>M0</td>\n",
       "      <td>M6</td>\n",
       "      <td>51000</td>\n",
       "      <td>NaN</td>\n",
       "      <td>Fit\\nlog 10 Y = α + (β log 10 X)(10 − γ/(X + δ))</td>\n",
       "    </tr>\n",
       "    <tr>\n",
       "      <td>6</td>\n",
       "      <td>Lurie+2015</td>\n",
       "      <td>1,92</td>\n",
       "      <td>2,03</td>\n",
       "      <td>NaN</td>\n",
       "      <td>30,2</td>\n",
       "      <td>33,2</td>\n",
       "      <td>Kepler band</td>\n",
       "      <td>M5</td>\n",
       "      <td>M5</td>\n",
       "      <td>2</td>\n",
       "      <td>NaN</td>\n",
       "      <td>Bayesian MCMC based algorithm from Kelly 2007 ...</td>\n",
       "    </tr>\n",
       "    <tr>\n",
       "      <td>7</td>\n",
       "      <td>Shakhovskaya+1989</td>\n",
       "      <td>1,4</td>\n",
       "      <td>2,4</td>\n",
       "      <td>NaN</td>\n",
       "      <td>29</td>\n",
       "      <td>36</td>\n",
       "      <td>NaN</td>\n",
       "      <td>K0</td>\n",
       "      <td>M8</td>\n",
       "      <td>35</td>\n",
       "      <td>200</td>\n",
       "      <td>linear representation, power laws from\\nGershb...</td>\n",
       "    </tr>\n",
       "    <tr>\n",
       "      <td>8</td>\n",
       "      <td>Yang+2017</td>\n",
       "      <td>1,72</td>\n",
       "      <td>2,42</td>\n",
       "      <td>NaN</td>\n",
       "      <td>32</td>\n",
       "      <td>35</td>\n",
       "      <td>NaN</td>\n",
       "      <td>K8</td>\n",
       "      <td>M5.5</td>\n",
       "      <td>540</td>\n",
       "      <td>102187</td>\n",
       "      <td>binned FFDs</td>\n",
       "    </tr>\n",
       "    <tr>\n",
       "      <td>9</td>\n",
       "      <td>Howard+2018</td>\n",
       "      <td>1,84</td>\n",
       "      <td>2,34</td>\n",
       "      <td>NaN</td>\n",
       "      <td>32</td>\n",
       "      <td>35,5</td>\n",
       "      <td>bol</td>\n",
       "      <td>K5</td>\n",
       "      <td>M4</td>\n",
       "      <td>284</td>\n",
       "      <td>575</td>\n",
       "      <td>fit cumulative power law, MCMC for uncertainties</td>\n",
       "    </tr>\n",
       "    <tr>\n",
       "      <td>10</td>\n",
       "      <td>Hilton2011</td>\n",
       "      <td>1,63</td>\n",
       "      <td>1,83</td>\n",
       "      <td>NaN</td>\n",
       "      <td>30</td>\n",
       "      <td>35</td>\n",
       "      <td>NaN</td>\n",
       "      <td>M0</td>\n",
       "      <td>M8</td>\n",
       "      <td>39</td>\n",
       "      <td>239</td>\n",
       "      <td>linear fit  to log-log plot</td>\n",
       "    </tr>\n",
       "    <tr>\n",
       "      <td>11</td>\n",
       "      <td>Shibayama+2013</td>\n",
       "      <td>2</td>\n",
       "      <td>2,2</td>\n",
       "      <td>min = slow rotators, max=all stars</td>\n",
       "      <td>34,5</td>\n",
       "      <td>36</td>\n",
       "      <td>NaN</td>\n",
       "      <td>F9</td>\n",
       "      <td>K2</td>\n",
       "      <td>279</td>\n",
       "      <td>1547</td>\n",
       "      <td>consistent with Maehara+2012</td>\n",
       "    </tr>\n",
       "  </tbody>\n",
       "</table>\n",
       "</div>"
      ]
     },
     "execution_count": 2,
     "metadata": {
     },
     "output_type": "execute_result"
    }
   ],
   "source": [
    "df = pd.read_csv('optical_flares_FFD_slopes_literature.csv', dtype=str)\n",
    "df"
   ]
  },
  {
   "cell_type": "code",
   "execution_count": 3,
   "metadata": {
    "collapsed": false
   },
   "outputs": [
    {
     "data": {
      "image/png": "[encoded data removed]"
     },
     "execution_count": 3,
     "metadata": {
     },
     "output_type": "execute_result"
    }
   ],
   "source": [
    "for label, row in df[[\"slopemin\", \"slopemax\",\"nflares\"]].dropna(how=\"any\").iterrows():\n",
    "    plt.plot([float(str(row.slopemin.replace(\",\",\".\"))), float(str(row.slopemax.replace(\",\",\".\")))], [int(row.nflares)]*2)\n",
    "plt.yscale(\"log\")"
   ]
  },
  {
   "cell_type": "code",
   "execution_count": 6,
   "metadata": {
    "collapsed": false
   },
   "outputs": [
    {
     "data": {
      "image/png": "[encoded data removed]"
     },
     "execution_count": 6,
     "metadata": {
     },
     "output_type": "execute_result"
    }
   ],
   "source": [
    "from matplotlib.patches import Rectangle\n",
    "from matplotlib.collections import PatchCollection\n",
    "\n",
    "def floatify(x):\n",
    "    return float(str(x).replace(\",\",\".\"))\n",
    "\n",
    "def gaussian(x, mu, sig):\n",
    "    return np.exp(-np.power(x - mu, 2.) / (2 * np.power(sig, 2.)))\n",
    "\n",
    "fix, ax = plt.subplots(1, figsize=(8,6))\n",
    "ax.plot(np.linspace(1,3,200), 28+6*gaussian(np.linspace(1,3,200),1.95,.08), c=\"grey\", linewidth=4)\n",
    "\n",
    "boxes = []\n",
    "for label, row in df[[\"slopemin\", \"slopemax\",\"energymin\", \"energymax\",\"author\"]].dropna(how=\"any\").iterrows():\n",
    "    f = Rectangle((floatify(row.slopemin), floatify(row.energymin)),\n",
    "             floatify(row.slopemax) - floatify(row.slopemin),\n",
    "             floatify(row.energymax) - floatify(row.energymin))\n",
    "    if row.author==\"Hilton2011\":\n",
    "        ax.text(floatify(row.slopemin), floatify(row.energymin)-0.35, row.author, fontsize=12)\n",
    "    else:\n",
    "        ax.text(floatify(row.slopemin), floatify(row.energymax)+0.1, row.author, fontsize=12)\n",
    "    boxes.append(f)\n",
    "# Create patch collection with specified colour/alpha\n",
    "pc = PatchCollection(boxes, facecolor=\"r\", alpha=.3,\n",
    "                     edgecolor=\"k\")\n",
    "ax.add_collection(pc)\n",
    "plt.xlim(1.3,2.5)\n",
    "plt.ylim(28,37)\n",
    "plt.xlabel(r\"$\\alpha$\")\n",
    "plt.ylabel(r\"log $E_\\mathrm{flare}$ [erg]\")\n",
    "plt.savefig(\"overview_alpha_literature.png\", dpi=300)"
   ]
  },
  {
   "cell_type": "code",
   "execution_count": 5,
   "metadata": {
    "collapsed": false
   },
   "outputs": [
    {
     "data": {
      "text/plain": [
       "[<matplotlib.lines.Line2D at 0x7f790a6fea20>]"
      ]
     },
     "execution_count": 5,
     "metadata": {
     },
     "output_type": "execute_result"
    },
    {
     "data": {
      "image/png": "[encoded data removed]"
     },
     "execution_count": 5,
     "metadata": {
     },
     "output_type": "execute_result"
    }
   ],
   "source": [
    "plt.plot(np.linspace(1,3,200), 27+4*gaussian(np.linspace(1,3,200),2.,.1))"
   ]
  },
  {
   "cell_type": "code",
   "execution_count": 0,
   "metadata": {
    "collapsed": false
   },
   "outputs": [
   ],
   "source": [
   ]
  }
 ],
 "metadata": {
  "kernelspec": {
   "display_name": "Anaconda(Py3.6)",
   "language": "python",
   "name": "anaconda3"
  },
  "language_info": {
   "codemirror_mode": {
    "name": "ipython",
    "version": 3
   },
   "file_extension": ".py",
   "mimetype": "text/x-python",
   "name": "python",
   "nbconvert_exporter": "python",
   "pygments_lexer": "ipython3",
   "version": "3.6.7"
  }
 },
 "nbformat": 4,
 "nbformat_minor": 0
}